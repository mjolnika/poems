{
  "nbformat": 4,
  "nbformat_minor": 0,
  "metadata": {
    "colab": {
      "name": "long words in russian poetry.ipynb",
      "provenance": [],
      "collapsed_sections": [],
      "authorship_tag": "ABX9TyNuj5tCjwDBi/i4dhUOQUnM"
    },
    "kernelspec": {
      "name": "python3",
      "display_name": "Python 3"
    }
  },
  "cells": [
    {
      "cell_type": "code",
      "metadata": {
        "id": "F90FKyeh9l0O",
        "colab_type": "code",
        "outputId": "e5e88475-da8b-484c-e2c4-85a44e3f725b",
        "colab": {
          "base_uri": "https://localhost:8080/",
          "height": 835
        }
      },
      "source": [
        "pip install --ignore-installed --upgrade tensorflow==1.13.1"
      ],
      "execution_count": 1,
      "outputs": [
        {
          "output_type": "stream",
          "text": [
            "Collecting tensorflow==1.13.1\n",
            "  Using cached https://files.pythonhosted.org/packages/77/63/a9fa76de8dffe7455304c4ed635be4aa9c0bacef6e0633d87d5f54530c5c/tensorflow-1.13.1-cp36-cp36m-manylinux1_x86_64.whl\n",
            "Collecting gast>=0.2.0\n",
            "  Using cached https://files.pythonhosted.org/packages/d6/84/759f5dd23fec8ba71952d97bcc7e2c9d7d63bdc582421f3cd4be845f0c98/gast-0.3.3-py2.py3-none-any.whl\n",
            "Collecting protobuf>=3.6.1\n",
            "  Using cached https://files.pythonhosted.org/packages/57/02/5432412c162989260fab61fa65e0a490c1872739eb91a659896e4d554b26/protobuf-3.11.3-cp36-cp36m-manylinux1_x86_64.whl\n",
            "Processing /root/.cache/pip/wheels/8e/28/49/fad4e7f0b9a1227708cbbee4487ac8558a7334849cb81c813d/absl_py-0.9.0-cp36-none-any.whl\n",
            "Collecting grpcio>=1.8.6\n",
            "  Using cached https://files.pythonhosted.org/packages/f3/97/f74da84d4db8cfe95f9b6aa2469be79af1873fec1adb80405105ed99a0a8/grpcio-1.28.1-cp36-cp36m-manylinux2010_x86_64.whl\n",
            "Collecting wheel>=0.26\n",
            "  Using cached https://files.pythonhosted.org/packages/8c/23/848298cccf8e40f5bbb59009b32848a4c38f4e7f3364297ab3c3e2e2cd14/wheel-0.34.2-py2.py3-none-any.whl\n",
            "Collecting tensorflow-estimator<1.14.0rc0,>=1.13.0\n",
            "  Using cached https://files.pythonhosted.org/packages/bb/48/13f49fc3fa0fdf916aa1419013bb8f2ad09674c275b4046d5ee669a46873/tensorflow_estimator-1.13.0-py2.py3-none-any.whl\n",
            "Collecting keras-applications>=1.0.6\n",
            "  Using cached https://files.pythonhosted.org/packages/71/e3/19762fdfc62877ae9102edf6342d71b28fbfd9dea3d2f96a882ce099b03f/Keras_Applications-1.0.8-py3-none-any.whl\n",
            "Collecting numpy>=1.13.3\n",
            "  Using cached https://files.pythonhosted.org/packages/3d/fc/4763e5f17ac6e7e7d55f377cde859ca1c5d5ac624441ab45315bc578aa9e/numpy-1.18.3-cp36-cp36m-manylinux1_x86_64.whl\n",
            "Processing /root/.cache/pip/wheels/7c/06/54/bc84598ba1daf8f970247f550b175aaaee85f68b4b0c5ab2c6/termcolor-1.1.0-cp36-none-any.whl\n",
            "Collecting astor>=0.6.0\n",
            "  Using cached https://files.pythonhosted.org/packages/c3/88/97eef84f48fa04fbd6750e62dcceafba6c63c81b7ac1420856c8dcc0a3f9/astor-0.8.1-py2.py3-none-any.whl\n",
            "Collecting tensorboard<1.14.0,>=1.13.0\n",
            "  Using cached https://files.pythonhosted.org/packages/0f/39/bdd75b08a6fba41f098b6cb091b9e8c7a80e1b4d679a581a0ccd17b10373/tensorboard-1.13.1-py3-none-any.whl\n",
            "Collecting six>=1.10.0\n",
            "  Using cached https://files.pythonhosted.org/packages/65/eb/1f97cb97bfc2390a276969c6fae16075da282f5058082d4cb10c6c5c1dba/six-1.14.0-py2.py3-none-any.whl\n",
            "Collecting keras-preprocessing>=1.0.5\n",
            "  Using cached https://files.pythonhosted.org/packages/28/6a/8c1f62c37212d9fc441a7e26736df51ce6f0e38455816445471f10da4f0a/Keras_Preprocessing-1.1.0-py2.py3-none-any.whl\n",
            "Collecting setuptools\n",
            "  Using cached https://files.pythonhosted.org/packages/a0/df/635cdb901ee4a8a42ec68e480c49f85f4c59e8816effbf57d9e6ee8b3588/setuptools-46.1.3-py3-none-any.whl\n",
            "Collecting mock>=2.0.0\n",
            "  Using cached https://files.pythonhosted.org/packages/cd/74/d72daf8dff5b6566db857cfd088907bb0355f5dd2914c4b3ef065c790735/mock-4.0.2-py3-none-any.whl\n",
            "Collecting h5py\n",
            "  Using cached https://files.pythonhosted.org/packages/60/06/cafdd44889200e5438b897388f3075b52a8ef01f28a17366d91de0fa2d05/h5py-2.10.0-cp36-cp36m-manylinux1_x86_64.whl\n",
            "Collecting markdown>=2.6.8\n",
            "  Using cached https://files.pythonhosted.org/packages/ab/c4/ba46d44855e6eb1770a12edace5a165a0c6de13349f592b9036257f3c3d3/Markdown-3.2.1-py2.py3-none-any.whl\n",
            "Collecting werkzeug>=0.11.15\n",
            "  Using cached https://files.pythonhosted.org/packages/cc/94/5f7079a0e00bd6863ef8f1da638721e9da21e5bacee597595b318f71d62e/Werkzeug-1.0.1-py2.py3-none-any.whl\n",
            "\u001b[31mERROR: google-colab 1.0.0 has requirement six~=1.12.0, but you'll have six 1.14.0 which is incompatible.\u001b[0m\n",
            "\u001b[31mERROR: datascience 0.10.6 has requirement folium==0.2.1, but you'll have folium 0.8.3 which is incompatible.\u001b[0m\n",
            "\u001b[31mERROR: albumentations 0.1.12 has requirement imgaug<0.2.7,>=0.2.5, but you'll have imgaug 0.2.9 which is incompatible.\u001b[0m\n",
            "Installing collected packages: gast, setuptools, six, protobuf, absl-py, grpcio, wheel, mock, numpy, tensorflow-estimator, h5py, keras-applications, termcolor, astor, markdown, werkzeug, tensorboard, keras-preprocessing, tensorflow\n",
            "Successfully installed absl-py-0.9.0 astor-0.8.1 gast-0.3.3 grpcio-1.28.1 h5py-2.10.0 keras-applications-1.0.8 keras-preprocessing-1.1.0 markdown-3.2.1 mock-4.0.2 numpy-1.18.3 protobuf-3.11.3 setuptools-46.1.3 six-1.14.0 tensorboard-2.2.1 tensorflow-2.2.0rc3 tensorflow-estimator-2.2.0 termcolor-1.1.0 werkzeug-1.0.1 wheel-0.34.2\n"
          ],
          "name": "stdout"
        },
        {
          "output_type": "display_data",
          "data": {
            "application/vnd.colab-display-data+json": {
              "pip_warning": {
                "packages": [
                  "google",
                  "grpc",
                  "numpy",
                  "pkg_resources",
                  "six"
                ]
              }
            }
          },
          "metadata": {
            "tags": []
          }
        }
      ]
    },
    {
      "cell_type": "code",
      "metadata": {
        "id": "PmlarD292Bab",
        "colab_type": "code",
        "outputId": "29021b28-2c1b-407b-ad79-fdee02bd9702",
        "colab": {
          "base_uri": "https://localhost:8080/",
          "height": 713
        }
      },
      "source": [
        "!pip install russtress"
      ],
      "execution_count": 3,
      "outputs": [
        {
          "output_type": "stream",
          "text": [
            "Requirement already satisfied: russtress in /usr/local/lib/python3.6/dist-packages (0.1.3)\n",
            "Requirement already satisfied: scipy in /usr/local/lib/python3.6/dist-packages (from russtress) (1.4.1)\n",
            "Requirement already satisfied: Keras in /usr/local/lib/python3.6/dist-packages (from russtress) (2.3.1)\n",
            "Requirement already satisfied: tensorflow in /usr/local/lib/python3.6/dist-packages (from russtress) (2.2.0rc3)\n",
            "Requirement already satisfied: numpy in /usr/local/lib/python3.6/dist-packages (from russtress) (1.18.3)\n",
            "Requirement already satisfied: keras-preprocessing>=1.0.5 in /usr/local/lib/python3.6/dist-packages (from Keras->russtress) (1.1.0)\n",
            "Requirement already satisfied: six>=1.9.0 in /usr/local/lib/python3.6/dist-packages (from Keras->russtress) (1.14.0)\n",
            "Requirement already satisfied: h5py in /usr/local/lib/python3.6/dist-packages (from Keras->russtress) (2.10.0)\n",
            "Requirement already satisfied: keras-applications>=1.0.6 in /usr/local/lib/python3.6/dist-packages (from Keras->russtress) (1.0.8)\n",
            "Requirement already satisfied: pyyaml in /usr/local/lib/python3.6/dist-packages (from Keras->russtress) (3.13)\n",
            "Requirement already satisfied: google-pasta>=0.1.8 in /usr/local/lib/python3.6/dist-packages (from tensorflow->russtress) (0.2.0)\n",
            "Requirement already satisfied: grpcio>=1.8.6 in /usr/local/lib/python3.6/dist-packages (from tensorflow->russtress) (1.28.1)\n",
            "Requirement already satisfied: wheel>=0.26; python_version >= \"3\" in /usr/local/lib/python3.6/dist-packages (from tensorflow->russtress) (0.34.2)\n",
            "Requirement already satisfied: tensorflow-estimator<2.3.0,>=2.2.0rc0 in /usr/local/lib/python3.6/dist-packages (from tensorflow->russtress) (2.2.0)\n",
            "Requirement already satisfied: termcolor>=1.1.0 in /usr/local/lib/python3.6/dist-packages (from tensorflow->russtress) (1.1.0)\n",
            "Requirement already satisfied: astunparse==1.6.3 in /usr/local/lib/python3.6/dist-packages (from tensorflow->russtress) (1.6.3)\n",
            "Requirement already satisfied: tensorboard<2.3.0,>=2.2.0 in /usr/local/lib/python3.6/dist-packages (from tensorflow->russtress) (2.2.1)\n",
            "Requirement already satisfied: wrapt>=1.11.1 in /usr/local/lib/python3.6/dist-packages (from tensorflow->russtress) (1.12.1)\n",
            "Requirement already satisfied: absl-py>=0.7.0 in /usr/local/lib/python3.6/dist-packages (from tensorflow->russtress) (0.9.0)\n",
            "Requirement already satisfied: gast==0.3.3 in /usr/local/lib/python3.6/dist-packages (from tensorflow->russtress) (0.3.3)\n",
            "Requirement already satisfied: protobuf>=3.8.0 in /usr/local/lib/python3.6/dist-packages (from tensorflow->russtress) (3.11.3)\n",
            "Requirement already satisfied: opt-einsum>=2.3.2 in /usr/local/lib/python3.6/dist-packages (from tensorflow->russtress) (3.2.1)\n",
            "Requirement already satisfied: requests<3,>=2.21.0 in /usr/local/lib/python3.6/dist-packages (from tensorboard<2.3.0,>=2.2.0->tensorflow->russtress) (2.21.0)\n",
            "Requirement already satisfied: werkzeug>=0.11.15 in /usr/local/lib/python3.6/dist-packages (from tensorboard<2.3.0,>=2.2.0->tensorflow->russtress) (1.0.1)\n",
            "Requirement already satisfied: setuptools>=41.0.0 in /usr/local/lib/python3.6/dist-packages (from tensorboard<2.3.0,>=2.2.0->tensorflow->russtress) (46.1.3)\n",
            "Requirement already satisfied: google-auth<2,>=1.6.3 in /usr/local/lib/python3.6/dist-packages (from tensorboard<2.3.0,>=2.2.0->tensorflow->russtress) (1.7.2)\n",
            "Requirement already satisfied: google-auth-oauthlib<0.5,>=0.4.1 in /usr/local/lib/python3.6/dist-packages (from tensorboard<2.3.0,>=2.2.0->tensorflow->russtress) (0.4.1)\n",
            "Requirement already satisfied: tensorboard-plugin-wit>=1.6.0 in /usr/local/lib/python3.6/dist-packages (from tensorboard<2.3.0,>=2.2.0->tensorflow->russtress) (1.6.0.post3)\n",
            "Requirement already satisfied: markdown>=2.6.8 in /usr/local/lib/python3.6/dist-packages (from tensorboard<2.3.0,>=2.2.0->tensorflow->russtress) (3.2.1)\n",
            "Requirement already satisfied: chardet<3.1.0,>=3.0.2 in /usr/local/lib/python3.6/dist-packages (from requests<3,>=2.21.0->tensorboard<2.3.0,>=2.2.0->tensorflow->russtress) (3.0.4)\n",
            "Requirement already satisfied: certifi>=2017.4.17 in /usr/local/lib/python3.6/dist-packages (from requests<3,>=2.21.0->tensorboard<2.3.0,>=2.2.0->tensorflow->russtress) (2020.4.5.1)\n",
            "Requirement already satisfied: idna<2.9,>=2.5 in /usr/local/lib/python3.6/dist-packages (from requests<3,>=2.21.0->tensorboard<2.3.0,>=2.2.0->tensorflow->russtress) (2.8)\n",
            "Requirement already satisfied: urllib3<1.25,>=1.21.1 in /usr/local/lib/python3.6/dist-packages (from requests<3,>=2.21.0->tensorboard<2.3.0,>=2.2.0->tensorflow->russtress) (1.24.3)\n",
            "Requirement already satisfied: rsa<4.1,>=3.1.4 in /usr/local/lib/python3.6/dist-packages (from google-auth<2,>=1.6.3->tensorboard<2.3.0,>=2.2.0->tensorflow->russtress) (4.0)\n",
            "Requirement already satisfied: pyasn1-modules>=0.2.1 in /usr/local/lib/python3.6/dist-packages (from google-auth<2,>=1.6.3->tensorboard<2.3.0,>=2.2.0->tensorflow->russtress) (0.2.8)\n",
            "Requirement already satisfied: cachetools<3.2,>=2.0.0 in /usr/local/lib/python3.6/dist-packages (from google-auth<2,>=1.6.3->tensorboard<2.3.0,>=2.2.0->tensorflow->russtress) (3.1.1)\n",
            "Requirement already satisfied: requests-oauthlib>=0.7.0 in /usr/local/lib/python3.6/dist-packages (from google-auth-oauthlib<0.5,>=0.4.1->tensorboard<2.3.0,>=2.2.0->tensorflow->russtress) (1.3.0)\n",
            "Requirement already satisfied: pyasn1>=0.1.3 in /usr/local/lib/python3.6/dist-packages (from rsa<4.1,>=3.1.4->google-auth<2,>=1.6.3->tensorboard<2.3.0,>=2.2.0->tensorflow->russtress) (0.4.8)\n",
            "Requirement already satisfied: oauthlib>=3.0.0 in /usr/local/lib/python3.6/dist-packages (from requests-oauthlib>=0.7.0->google-auth-oauthlib<0.5,>=0.4.1->tensorboard<2.3.0,>=2.2.0->tensorflow->russtress) (3.1.0)\n"
          ],
          "name": "stdout"
        }
      ]
    },
    {
      "cell_type": "code",
      "metadata": {
        "id": "xl4xxSiN2uCP",
        "colab_type": "code",
        "colab": {}
      },
      "source": [
        "from russtress import Accent"
      ],
      "execution_count": 0,
      "outputs": []
    },
    {
      "cell_type": "code",
      "metadata": {
        "id": "5N0jpP_j3GGl",
        "colab_type": "code",
        "outputId": "cab20b7b-4ba9-40f2-c0f4-4456cf87fa94",
        "colab": {
          "base_uri": "https://localhost:8080/",
          "height": 89
        }
      },
      "source": [
        "accent = Accent()"
      ],
      "execution_count": 6,
      "outputs": [
        {
          "output_type": "stream",
          "text": [
            "WARNING:tensorflow:From /usr/local/lib/python3.6/dist-packages/tensorflow/python/ops/resource_variable_ops.py:435: colocate_with (from tensorflow.python.framework.ops) is deprecated and will be removed in a future version.\n",
            "Instructions for updating:\n",
            "Colocations handled automatically by placer.\n"
          ],
          "name": "stdout"
        }
      ]
    },
    {
      "cell_type": "code",
      "metadata": {
        "id": "krNGrkV93hIj",
        "colab_type": "code",
        "colab": {}
      },
      "source": [
        "text = 'Проставь, пожалуйста, ударея'\n",
        "accented_text = accent.put_stress(text)"
      ],
      "execution_count": 0,
      "outputs": []
    },
    {
      "cell_type": "code",
      "metadata": {
        "id": "GN7PfLAy-kBi",
        "colab_type": "code",
        "colab": {
          "base_uri": "https://localhost:8080/",
          "height": 35
        },
        "outputId": "2f690897-9ecf-42d9-e3ae-9511c26d6bbf"
      },
      "source": [
        "accented_text"
      ],
      "execution_count": 12,
      "outputs": [
        {
          "output_type": "execute_result",
          "data": {
            "text/plain": [
              "\"Проста'вь, пожа'луйста, уда'рея\""
            ]
          },
          "metadata": {
            "tags": []
          },
          "execution_count": 12
        }
      ]
    },
    {
      "cell_type": "code",
      "metadata": {
        "id": "PA2kaXc9JGo_",
        "colab_type": "code",
        "colab": {}
      },
      "source": [
        "vowels = 'ЁУЕЫАОЭЯИЮюияэоаыеуё'"
      ],
      "execution_count": 0,
      "outputs": []
    },
    {
      "cell_type": "code",
      "metadata": {
        "id": "74u68zCkPNn1",
        "colab_type": "code",
        "colab": {}
      },
      "source": [
        "poems_dict = [{'title':'Дом поэта', 'foot':'2', 'text':'''Дверь отперта. Переступи порог.\n",
        "Мой дом раскрыт навстречу всех дорог.\n",
        "В прохладных кельях, беленных известкой,\n",
        "Вздыхает ветр, живет глухой раскат\n",
        "Волны, взмывающей на берег плоский,\n",
        "Полынный дух и жесткий треск цикад.\n",
        "А за окном расплавленное море\n",
        "Горит парчой в лазоревом просторе.\n",
        "Окрестные холмы вызорены\n",
        "Колючим солнцем. Серебро полыни\n",
        "На шиферных окалинах пустыни\n",
        "Торчит вихром косматой седины.\n",
        "Земля могил, молитв и медитаций ―\n",
        "Она у дома вырастила мне\n",
        "Скупой посев айлантов и акаций\n",
        "В ограде тамарисков. В глубине\n",
        "За их листвой, разодранной ветрами,\n",
        "Скалистых гор зубчатый окоем\n",
        "Замкнул залив Алкеевым стихом,\n",
        "Асимметрично-строгими строфами.\n",
        "Здесь стык хребтов Кавказа и Балкан,\n",
        "И побережьям этих скудных стран\n",
        "Великий пафос лирики завещан\n",
        "С первоначальных дней, когда вулкан\n",
        "Метал огонь из недр глубинных трещин\n",
        "И дымный факел в небе потрясал.\n",
        "Вон там ― за профилем прибрежных скал,\n",
        "Запечатлевшим некое подобье (\n",
        "Мой лоб, мой нос, ощечье и подлобье),\n",
        "Как рухнувший готический собор,\n",
        "Торчащий непокорными зубцами,\n",
        "Как сказочный базальтовый костер,\n",
        "Широко вздувший каменное пламя,\n",
        "Из сизой мглы, над морем вдалеке\n",
        "Встает стена… Но сказ о Карадаге\n",
        "Не выцветить ни кистью на бумаге,\n",
        "Не высловить на скудном языке.\n",
        "Я много видел. Дивам мирозданья\n",
        "Картинами и словом отдал дань…\n",
        "Но грудь узка для этого дыханья,\n",
        "Для этих слов тесна моя гортань.\n",
        "Заклепаны клокочущие пасти.\n",
        "В остывших недрах мрак и тишина.\n",
        "Но спазмами и судорогой страсти\n",
        "Здесь вся земля от века сведена.\n",
        "И та же страсть и тот же мрачный гений\n",
        "В борьбе племен и в смене поколений.\n",
        "Доселе грезят берега мои\n",
        "Смолёные ахейские ладьи,\n",
        "И мертвых кличет голос Одиссея,\n",
        "И киммерийская глухая мгла\n",
        "На всех путях и долах залегла,\n",
        "Провалами беспамятства чернея.\n",
        "Наносы рек на сажень глубины\n",
        "Насыщены камнями, черепками,\n",
        "Могильниками, пеплом, костяками.\n",
        "В одно русло дождями сметены\n",
        "И грубые обжиги неолита,\n",
        "И скорлупа милетских тонких ваз,\n",
        "И позвонки каких-то пришлых рас,\n",
        "Чей облик стерт, а имя позабыто.\n",
        "Сарматский меч и скифская стрела,\n",
        "Ольвийский герб, слезница из стекла,\n",
        "Татарский глёт зеленовато-бусый\n",
        "Соседствуют с венецианской бусой.\n",
        "А в кладке стен кордонного поста\n",
        "Среди булыжников оцепенели\n",
        "Узорная арабская плита\n",
        "И угол византийской капители.\n",
        "Каких последов в этой почве нет\n",
        "Для археолога и нумизмата ―\n",
        "От римских блях и эллинских монет\n",
        "До пуговицы русского солдата.\n",
        "Здесь, в этих складках моря и земли,\n",
        "Людских культур не просыхала плесень ―\n",
        "Простор столетий был для жизни тесен,\n",
        "Покамест мы ― Россия ― не пришли.\n",
        "За полтораста лет ― с Екатерины ―\n",
        "Мы вытоптали мусульманский рай,\n",
        "Свели леса, размыкали руины,\n",
        "Расхитили и разорили край.\n",
        "Осиротелые зияют сакли;\n",
        "По скатам выкорчеваны сады.\n",
        "Народ ушел. Источники иссякли.\n",
        "Нет в море рыб. В фонтанах нет воды.\n",
        "Но скорбный лик оцепенелой маски\n",
        "Идет к холмам Гомеровой страны,\n",
        "И патетически обнажены\n",
        "Ее хребты и мускулы и связки.\n",
        "Но тени тех, кого здесь звал Улисс,\n",
        "Опять вином и кровью напились\n",
        "В недавние трагические годы.\n",
        "Усобица и голод и война,\n",
        "Крестя мечом и пламенем народы,\n",
        "Весь древний Ужас подняли со дна.\n",
        "В те дни мой дом ― слепой и запустелый ―\n",
        "Хранил права убежища, как храм,\n",
        "И растворялся только беглецам,\n",
        "Скрывавшимся от петли и расстрела.\n",
        "И красный вождь, и белый офицер ―\n",
        "Фанатики непримиримых вер ―\n",
        "Искали здесь под кровлею поэта\n",
        "Убежища, защиты и совета.\n",
        "Я ж делал всё, чтоб братьям помешать\n",
        "Себя ― губить, друг друга ― истреблять,\n",
        "И сам читал ― в одном столбце с другими\n",
        "В кровавых списках собственное имя.\n",
        "Но в эти дни доносов и тревог\n",
        "Счастливый жребий дом мой не оставил:\n",
        "Ни власть не отняла, ни враг не сжег,\n",
        "Не предал друг, грабитель не ограбил.\n",
        "Утихла буря. Догорел пожар.\n",
        "Я принял жизнь и этот дом как дар\n",
        "Нечаянный ― мне вверенный судьбою,\n",
        "Как знак, что я усыновлен землею.\n",
        "Всей грудью к морю, прямо на восток,\n",
        "Обращена, как церковь, мастерская,\n",
        "И снова человеческий поток\n",
        "Сквозь дверь ее течет, не иссякая.\n",
        "\n",
        "Войди, мой гость: стряхни житейский прах\n",
        "И плесень дум у моего порога…\n",
        "Со дна веков тебя приветит строго\n",
        "Огромный лик царицы Таиах.\n",
        "Мой кров ― убог. И времена ― суровы.\n",
        "Но полки книг возносятся стеной.\n",
        "Тут по ночам беседуют со мной\n",
        "Историки, поэты, богословы.\n",
        "И здесь ― их голос, властный, как орган,\n",
        "Глухую речь и самый тихий шепот\n",
        "Не заглушит ни зимний ураган,\n",
        "Ни грохот волн, ни Понта мрачный ропот.\n",
        "Мои ж уста давно замкнуты… Пусть!\n",
        "Почетней быть твердимым наизусть\n",
        "И списываться тайно и украдкой,\n",
        "При жизни быть не книгой, а тетрадкой.\n",
        "И ты, и я ― мы все имели честь «\n",
        "Мир посетить в минуты роковые»\n",
        "И стать грустней и зорче, чем мы есть.\n",
        "Я не изгой, а пасынок России.\n",
        "Я в эти дни ее немой укор.\n",
        "И сам избрал пустынный сей затвор\n",
        "Землею добровольного изгнанья,\n",
        "Чтоб в годы лжи, паденья и разрух\n",
        "В уединеньи выплавить свой дух\n",
        "И выстрадать великое познанье.\n",
        "Пойми простой урок моей земли:\n",
        "Как Греция и Генуя прошли,\n",
        "Так минет всё ― Европа и Россия.\n",
        "Гражданских смут горючая стихия\n",
        "Развеется… Расставит новый век\n",
        "В житейских заводях иные мрежи…\n",
        "Ветшают дни, проходит человек.\n",
        "Но небо и земля ― извечно те же.\n",
        "Поэтому живи текущим днём.\n",
        "Благослови свой синий окоём.\n",
        "Будь прост, как ветр, неистощим, как море,\n",
        "И памятью насыщен, как земля.\n",
        "Люби далекий парус корабля\n",
        "И песню волн, шумящих на просторе.\n",
        "Весь трепет жизни всех веков и рас\n",
        "Живет в тебе. Всегда. Теперь. Сейчас.'''}]"
      ],
      "execution_count": 0,
      "outputs": []
    },
    {
      "cell_type": "code",
      "metadata": {
        "id": "OoWFo5NhNB8S",
        "colab_type": "code",
        "colab": {}
      },
      "source": [
        "def turn_to_dict_with_foots(poems_dictlist):\n",
        "  long_words = []\n",
        "  for poemdict in poems_dictlist:\n",
        "    text = poemdict['text']\n",
        "    title = poemdict['title']\n",
        "    foot = poemdict['foot']\n",
        "    poem_lines = text.splitlines()\n",
        "    for idx, line in enumerate(poem_lines):\n",
        "      line_number = idx\n",
        "      accented_line = accent.put_stress(line)\n",
        "      line_words = accented_line.split(' ')\n",
        "      line_list = word_checking(line_words, accented_line, line_number, title, foot)\n",
        "      if line_list:\n",
        "        long_words.append(line_list)\n",
        "    return long_words"
      ],
      "execution_count": 0,
      "outputs": []
    },
    {
      "cell_type": "code",
      "metadata": {
        "id": "mNeQu3dfOas0",
        "colab_type": "code",
        "colab": {}
      },
      "source": [
        "def word_checking(list_of_words, accented_line, line_number, title, foot):\n",
        "  line_list = []\n",
        "  for word in list_of_words:\n",
        "    if len(word.split(\"'\"))>1:\n",
        "      ana, epi = word.split(\"'\")\n",
        "      vowels_check = 0\n",
        "      for item in epi:\n",
        "        if item in vowels:\n",
        "          vowels_check += 1\n",
        "      if vowels_check>2:\n",
        "        worddict = {'word':word, 'line': accented_line, 'number':line_number, 'title': title, 'foot':foot}\n",
        "        line_list.append(worddict)\n",
        "    if line_list:\n",
        "      return line_list"
      ],
      "execution_count": 0,
      "outputs": []
    },
    {
      "cell_type": "code",
      "metadata": {
        "id": "nwTlvg3aRqJY",
        "colab_type": "code",
        "colab": {
          "base_uri": "https://localhost:8080/",
          "height": 277
        },
        "outputId": "e51e710c-ae49-4073-ca22-24193b0efc0d"
      },
      "source": [
        "test = turn_to_dict_with_foots(poems_dict)"
      ],
      "execution_count": 110,
      "outputs": [
        {
          "output_type": "stream",
          "text": [
            "[{'word': \"распла'вленное\", 'line': \"А за окно'м распла'вленное мо'ре\", 'number': 6, 'title': 'Дом поэта', 'foot': '2'}]\n",
            "[{'word': \"ла'зоревом\", 'line': \"Гори'т парчо'й в ла'зоревом просто'ре.\", 'number': 7, 'title': 'Дом поэта', 'foot': '2'}]\n",
            "[{'word': \"вы'зорены\", 'line': \"Окре'стные холмы' вы'зорены\", 'number': 8, 'title': 'Дом поэта', 'foot': '2'}]\n",
            "[{'word': \"вы'растила\", 'line': \"Она' у до'ма вы'растила мне\", 'number': 13, 'title': 'Дом поэта', 'foot': '2'}]\n",
            "[{'word': \"Асимметрично-стр'огими\", 'line': \"Асимметрично-стр'огими строфа'ми.\", 'number': 19, 'title': 'Дом поэта', 'foot': '2'}]\n",
            "[{'word': \"ка'менное\", 'line': \"Широко' взду'вший ка'менное пла'мя,\", 'number': 32, 'title': 'Дом поэта', 'foot': '2'}]\n",
            "[{'word': \"су'дорогой\", 'line': \"Но спазма'ми и су'дорогой стра'сти\", 'number': 43, 'title': 'Дом поэта', 'foot': '2'}]\n",
            "[{'word': \"Моги'льниками,\", 'line': \"Моги'льниками, пе'плом, костяка'ми.\", 'number': 55, 'title': 'Дом поэта', 'foot': '2'}]\n",
            "[{'word': \"зеленова'то-бусый\", 'line': \"Тата'рский глёт зеленова'то-бусый\", 'number': 63, 'title': 'Дом поэта', 'foot': '2'}]\n",
            "[{'word': \"пу'говицы\", 'line': \"До пу'говицы ру'сского солда'та.\", 'number': 72, 'title': 'Дом поэта', 'foot': '2'}]\n",
            "[{'word': \"выкор'чеваны\", 'line': \"По ска'там выкор'чеваны сады'.\", 'number': 82, 'title': 'Дом поэта', 'foot': '2'}]\n",
            "[{'word': \"Го'меровой\", 'line': \"Иде'т к хо'лмам Го'меровой страны',\", 'number': 86, 'title': 'Дом поэта', 'foot': '2'}]\n",
            "[{'word': \"траги'ческие\", 'line': \"В неда'вние траги'ческие го'ды.\", 'number': 91, 'title': 'Дом поэта', 'foot': '2'}]\n",
            "[{'word': \"со'бственное\", 'line': \"В крова'вых спи'сках со'бственное и'мя.\", 'number': 106, 'title': 'Дом поэта', 'foot': '2'}]\n",
            "[{'word': \"спи'сываться\", 'line': \"И спи'сываться та'йно и укра'дкой,\", 'number': 134, 'title': 'Дом поэта', 'foot': '2'}]\n"
          ],
          "name": "stdout"
        }
      ]
    },
    {
      "cell_type": "code",
      "metadata": {
        "id": "dN3CN9y0Sail",
        "colab_type": "code",
        "colab": {
          "base_uri": "https://localhost:8080/",
          "height": 35
        },
        "outputId": "2cb305da-c52f-4e5d-cf72-c27268d97cb2"
      },
      "source": [
        "len(test)"
      ],
      "execution_count": 111,
      "outputs": [
        {
          "output_type": "execute_result",
          "data": {
            "text/plain": [
              "15"
            ]
          },
          "metadata": {
            "tags": []
          },
          "execution_count": 111
        }
      ]
    }
  ]
}